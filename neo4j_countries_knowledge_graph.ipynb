{
 "cells": [
  {
   "cell_type": "code",
   "execution_count": 2,
   "id": "4bafb7ee",
   "metadata": {},
   "outputs": [
    {
     "name": "stdout",
     "output_type": "stream",
     "text": [
      "Collecting py2neo\n",
      "  Downloading py2neo-2021.2.4-py2.py3-none-any.whl.metadata (9.9 kB)\n",
      "Requirement already satisfied: certifi in /opt/anaconda3/lib/python3.11/site-packages (from py2neo) (2024.7.4)\n",
      "Collecting interchange~=2021.0.4 (from py2neo)\n",
      "  Downloading interchange-2021.0.4-py2.py3-none-any.whl.metadata (1.9 kB)\n",
      "Collecting monotonic (from py2neo)\n",
      "  Downloading monotonic-1.6-py2.py3-none-any.whl.metadata (1.5 kB)\n",
      "Requirement already satisfied: packaging in /opt/anaconda3/lib/python3.11/site-packages (from py2neo) (23.1)\n",
      "Collecting pansi>=2020.7.3 (from py2neo)\n",
      "  Downloading pansi-2020.7.3-py2.py3-none-any.whl.metadata (6.0 kB)\n",
      "Requirement already satisfied: pygments>=2.0.0 in /opt/anaconda3/lib/python3.11/site-packages (from py2neo) (2.15.1)\n",
      "Requirement already satisfied: six>=1.15.0 in /opt/anaconda3/lib/python3.11/site-packages (from py2neo) (1.16.0)\n",
      "Requirement already satisfied: urllib3 in /opt/anaconda3/lib/python3.11/site-packages (from py2neo) (2.0.7)\n",
      "Requirement already satisfied: pytz in /opt/anaconda3/lib/python3.11/site-packages (from interchange~=2021.0.4->py2neo) (2023.3.post1)\n",
      "Downloading py2neo-2021.2.4-py2.py3-none-any.whl (177 kB)\n",
      "\u001b[2K   \u001b[90m━━━━━━━━━━━━━━━━━━━━━━━━━━━━━━━━━━━━━━━━\u001b[0m \u001b[32m177.2/177.2 kB\u001b[0m \u001b[31m1.5 MB/s\u001b[0m eta \u001b[36m0:00:00\u001b[0m00:01\u001b[0m0:01\u001b[0m\n",
      "\u001b[?25hDownloading interchange-2021.0.4-py2.py3-none-any.whl (28 kB)\n",
      "Downloading pansi-2020.7.3-py2.py3-none-any.whl (10 kB)\n",
      "Downloading monotonic-1.6-py2.py3-none-any.whl (8.2 kB)\n",
      "Installing collected packages: monotonic, pansi, interchange, py2neo\n",
      "Successfully installed interchange-2021.0.4 monotonic-1.6 pansi-2020.7.3 py2neo-2021.2.4\n",
      "Note: you may need to restart the kernel to use updated packages.\n"
     ]
    }
   ],
   "source": [
    "pip install py2neo"
   ]
  },
  {
   "cell_type": "code",
   "execution_count": 4,
   "id": "ba57af13",
   "metadata": {},
   "outputs": [
    {
     "name": "stdout",
     "output_type": "stream",
     "text": [
      "Graph cleared.\n",
      "User 'Alice' added.\n",
      "User 'Bob' added.\n",
      "User 'Carol' added.\n"
     ]
    },
    {
     "name": "stderr",
     "output_type": "stream",
     "text": [
      "/var/folders/lx/cdwx1p1n5gq00_jxy52yl3wm0000gn/T/ipykernel_2148/1462425018.py:20: DeprecationWarning: The transaction.commit() method is deprecated, use graph.commit(transaction) instead\n",
      "  tx.commit()\n"
     ]
    },
    {
     "name": "stdout",
     "output_type": "stream",
     "text": [
      "Country 'France' added.\n",
      "Country 'Germany' added.\n",
      "Country 'Japan' added.\n",
      "Country 'Brazil' added.\n"
     ]
    },
    {
     "name": "stderr",
     "output_type": "stream",
     "text": [
      "/var/folders/lx/cdwx1p1n5gq00_jxy52yl3wm0000gn/T/ipykernel_2148/1462425018.py:29: DeprecationWarning: The transaction.commit() method is deprecated, use graph.commit(transaction) instead\n",
      "  tx.commit()\n"
     ]
    },
    {
     "name": "stdout",
     "output_type": "stream",
     "text": [
      "Continent 'Europe' added.\n",
      "Continent 'Asia' added.\n",
      "Continent 'South America' added.\n"
     ]
    },
    {
     "name": "stderr",
     "output_type": "stream",
     "text": [
      "/var/folders/lx/cdwx1p1n5gq00_jxy52yl3wm0000gn/T/ipykernel_2148/1462425018.py:38: DeprecationWarning: The transaction.commit() method is deprecated, use graph.commit(transaction) instead\n",
      "  tx.commit()\n"
     ]
    },
    {
     "name": "stdout",
     "output_type": "stream",
     "text": [
      "Language 'French' added.\n",
      "Language 'German' added.\n",
      "Language 'Japanese' added.\n",
      "Language 'Portuguese' added.\n"
     ]
    },
    {
     "name": "stderr",
     "output_type": "stream",
     "text": [
      "/var/folders/lx/cdwx1p1n5gq00_jxy52yl3wm0000gn/T/ipykernel_2148/1462425018.py:47: DeprecationWarning: The transaction.commit() method is deprecated, use graph.commit(transaction) instead\n",
      "  tx.commit()\n"
     ]
    },
    {
     "name": "stdout",
     "output_type": "stream",
     "text": [
      "User 'Alice' visited the country 'France'.\n",
      "User 'Bob' visited the country 'Germany'.\n",
      "User 'Carol' visited the country 'Japan'.\n",
      "Country 'France' belongs to continent 'Europe'.\n",
      "Country 'Germany' belongs to continent 'Europe'.\n",
      "Country 'Japan' belongs to continent 'Asia'.\n",
      "Country 'Brazil' belongs to continent 'South America'.\n",
      "Country 'France' speaks the language 'French'.\n",
      "Country 'Germany' speaks the language 'German'.\n",
      "Country 'Japan' speaks the language 'Japanese'.\n",
      "Country 'Brazil' speaks the language 'Portuguese'.\n",
      "Countries visited by Alice: ['France']\n",
      "Countries recommended for Alice (by continent): ['Germany']\n",
      "Countries recommended for Alice (by language): []\n"
     ]
    }
   ],
   "source": [
    "from py2neo import Graph, Node, Relationship, NodeMatcher\n",
    "\n",
    "class KnowledgeGraph:\n",
    "    def __init__(self, uri=\"neo4j+s://d5800584.databases.neo4j.io\", user=\"neo4j\", password=\"wPQh0QgH3kzqb8iBSAenCL54ZX7suzKy4vt4_jdj6tU\"):\n",
    "        self.graph = Graph(uri, auth=(user, password))\n",
    "        self.matcher = NodeMatcher(self.graph)\n",
    "\n",
    "    # Clear the entire graph (optional)\n",
    "    def clear_graph(self):\n",
    "        self.graph.run(\"MATCH (n) DETACH DELETE n\")\n",
    "        print(\"Graph cleared.\")\n",
    "\n",
    "    # Batch add multiple users\n",
    "    def add_users(self, user_names):\n",
    "        tx = self.graph.begin()\n",
    "        for name in user_names:\n",
    "            user = Node(\"User\", name=name)\n",
    "            tx.merge(user, \"User\", \"name\")  # Ensures no duplicates\n",
    "            print(f\"User '{name}' added.\")\n",
    "        tx.commit()\n",
    "\n",
    "    # Batch add multiple countries\n",
    "    def add_countries(self, countries):\n",
    "        tx = self.graph.begin()\n",
    "        for country in countries:\n",
    "            country_node = Node(\"Country\", name=country)\n",
    "            tx.merge(country_node, \"Country\", \"name\")\n",
    "            print(f\"Country '{country}' added.\")\n",
    "        tx.commit()\n",
    "\n",
    "    # Batch add multiple continents\n",
    "    def add_continents(self, continents):\n",
    "        tx = self.graph.begin()\n",
    "        for continent in continents:\n",
    "            continent_node = Node(\"Continent\", name=continent)\n",
    "            tx.merge(continent_node, \"Continent\", \"name\")\n",
    "            print(f\"Continent '{continent}' added.\")\n",
    "        tx.commit()\n",
    "\n",
    "    # Batch add multiple languages\n",
    "    def add_languages(self, languages):\n",
    "        tx = self.graph.begin()\n",
    "        for language in languages:\n",
    "            language_node = Node(\"Language\", name=language)\n",
    "            tx.merge(language_node, \"Language\", \"name\")\n",
    "            print(f\"Language '{language}' added.\")\n",
    "        tx.commit()\n",
    "\n",
    "    # Add relationships between users and countries they visited\n",
    "    def add_visited_relationship(self, user_name, country_name):\n",
    "        user = self.matcher.match(\"User\", name=user_name).first()\n",
    "        country = self.matcher.match(\"Country\", name=country_name).first()\n",
    "        if user and country:\n",
    "            rel = Relationship(user, \"VISITED\", country)\n",
    "            self.graph.merge(rel)\n",
    "            print(f\"User '{user_name}' visited the country '{country_name}'.\")\n",
    "        else:\n",
    "            print(f\"User '{user_name}' or Country '{country_name}' not found!\")\n",
    "\n",
    "    # Add relationships between countries and continents they belong to\n",
    "    def add_belongs_to_continent_relationship(self, country_name, continent_name):\n",
    "        country = self.matcher.match(\"Country\", name=country_name).first()\n",
    "        continent = self.matcher.match(\"Continent\", name=continent_name).first()\n",
    "        if country and continent:\n",
    "            rel = Relationship(country, \"BELONGS_TO\", continent)\n",
    "            self.graph.merge(rel)\n",
    "            print(f\"Country '{country_name}' belongs to continent '{continent_name}'.\")\n",
    "        else:\n",
    "            print(f\"Country '{country_name}' or Continent '{continent_name}' not found!\")\n",
    "\n",
    "    # Add relationships between countries and their official languages\n",
    "    def add_speaks_language_relationship(self, country_name, language_name):\n",
    "        country = self.matcher.match(\"Country\", name=country_name).first()\n",
    "        language = self.matcher.match(\"Language\", name=language_name).first()\n",
    "        if country and language:\n",
    "            rel = Relationship(country, \"SPEAKS\", language)\n",
    "            self.graph.merge(rel)\n",
    "            print(f\"Country '{country_name}' speaks the language '{language_name}'.\")\n",
    "        else:\n",
    "            print(f\"Country '{country_name}' or Language '{language_name}' not found!\")\n",
    "\n",
    "    # Query: Find countries visited by a specific user\n",
    "    def find_countries_visited_by_user(self, user_name):\n",
    "        query = \"\"\"\n",
    "        MATCH (u:User)-[:VISITED]->(c:Country)\n",
    "        WHERE u.name = $user_name\n",
    "        RETURN c.name AS country\n",
    "        \"\"\"\n",
    "        results = self.graph.run(query, user_name=user_name).data()\n",
    "        return [record['country'] for record in results]\n",
    "\n",
    "    # Query: Recommend countries based on continents a user visited\n",
    "    def recommend_countries_by_continent(self, user_name):\n",
    "        query = \"\"\"\n",
    "        MATCH (u:User)-[:VISITED]->(:Country)-[:BELONGS_TO]->(con:Continent)<-[:BELONGS_TO]-(c:Country)\n",
    "        WHERE u.name = $user_name\n",
    "        RETURN DISTINCT c.name AS country\n",
    "        LIMIT 5\n",
    "        \"\"\"\n",
    "        results = self.graph.run(query, user_name=user_name).data()\n",
    "        return [record['country'] for record in results]\n",
    "\n",
    "    # Query: Recommend countries based on languages spoken in countries a user visited\n",
    "    def recommend_countries_by_language(self, user_name):\n",
    "        query = \"\"\"\n",
    "        MATCH (u:User)-[:VISITED]->(:Country)-[:SPEAKS]->(l:Language)<-[:SPEAKS]-(c:Country)\n",
    "        WHERE u.name = $user_name\n",
    "        RETURN DISTINCT c.name AS country\n",
    "        LIMIT 5\n",
    "        \"\"\"\n",
    "        results = self.graph.run(query, user_name=user_name).data()\n",
    "        return [record['country'] for record in results]\n",
    "\n",
    "\n",
    "# Example usage\n",
    "if __name__ == \"__main__\":\n",
    "    kg = KnowledgeGraph()\n",
    "\n",
    "    # Clear the graph (optional)\n",
    "    kg.clear_graph()\n",
    "\n",
    "    # Add Users, Countries, Continents, and Languages\n",
    "    users = [\"Alice\", \"Bob\", \"Carol\"]\n",
    "    countries = [\"France\", \"Germany\", \"Japan\", \"Brazil\"]\n",
    "    continents = [\"Europe\", \"Asia\", \"South America\"]\n",
    "    languages = [\"French\", \"German\", \"Japanese\", \"Portuguese\"]\n",
    "\n",
    "    kg.add_users(users)\n",
    "    kg.add_countries(countries)\n",
    "    kg.add_continents(continents)\n",
    "    kg.add_languages(languages)\n",
    "\n",
    "    # Add relationships\n",
    "    kg.add_visited_relationship(\"Alice\", \"France\")\n",
    "    kg.add_visited_relationship(\"Bob\", \"Germany\")\n",
    "    kg.add_visited_relationship(\"Carol\", \"Japan\")\n",
    "\n",
    "    kg.add_belongs_to_continent_relationship(\"France\", \"Europe\")\n",
    "    kg.add_belongs_to_continent_relationship(\"Germany\", \"Europe\")\n",
    "    kg.add_belongs_to_continent_relationship(\"Japan\", \"Asia\")\n",
    "    kg.add_belongs_to_continent_relationship(\"Brazil\", \"South America\")\n",
    "\n",
    "    kg.add_speaks_language_relationship(\"France\", \"French\")\n",
    "    kg.add_speaks_language_relationship(\"Germany\", \"German\")\n",
    "    kg.add_speaks_language_relationship(\"Japan\", \"Japanese\")\n",
    "    kg.add_speaks_language_relationship(\"Brazil\", \"Portuguese\")\n",
    "\n",
    "    # Queries\n",
    "    alice_visited = kg.find_countries_visited_by_user(\"Alice\")\n",
    "    print(\"Countries visited by Alice:\", alice_visited)\n",
    "\n",
    "    recommendations_by_continent = kg.recommend_countries_by_continent(\"Alice\")\n",
    "    print(\"Countries recommended for Alice (by continent):\", recommendations_by_continent)\n",
    "\n",
    "    recommendations_by_language = kg.recommend_countries_by_language(\"Alice\")\n",
    "    print(\"Countries recommended for Alice (by language):\", recommendations_by_language)"
   ]
  },
  {
   "cell_type": "code",
   "execution_count": null,
   "id": "2d7b0e62",
   "metadata": {},
   "outputs": [],
   "source": []
  }
 ],
 "metadata": {
  "kernelspec": {
   "display_name": "Python 3 (ipykernel)",
   "language": "python",
   "name": "python3"
  },
  "language_info": {
   "codemirror_mode": {
    "name": "ipython",
    "version": 3
   },
   "file_extension": ".py",
   "mimetype": "text/x-python",
   "name": "python",
   "nbconvert_exporter": "python",
   "pygments_lexer": "ipython3",
   "version": "3.11.7"
  }
 },
 "nbformat": 4,
 "nbformat_minor": 5
}
